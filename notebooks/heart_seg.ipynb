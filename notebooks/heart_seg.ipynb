{
 "cells": [
  {
   "cell_type": "code",
   "execution_count": null,
   "metadata": {
    "colab": {
     "base_uri": "https://localhost:8080/"
    },
    "executionInfo": {
     "elapsed": 36744,
     "status": "ok",
     "timestamp": 1761090611315,
     "user": {
      "displayName": "Aly Elbana",
      "userId": "07065788760833618885"
     },
     "user_tz": -180
    },
    "id": "z2b6E8TPkiuC",
    "outputId": "3ec998be-edc7-4ead-d8e4-824d305216e4"
   },
   "outputs": [
    {
     "name": "stdout",
     "output_type": "stream",
     "text": [
      "Downloading from https://www.kaggle.com/api/v1/datasets/download/nikhilroxtomar/ct-heart-segmentation?dataset_version_number=1...\n"
     ]
    },
    {
     "name": "stderr",
     "output_type": "stream",
     "text": [
      "100%|██████████| 541M/541M [00:25<00:00, 22.6MB/s]"
     ]
    },
    {
     "name": "stdout",
     "output_type": "stream",
     "text": [
      "Extracting files...\n"
     ]
    },
    {
     "name": "stderr",
     "output_type": "stream",
     "text": [
      "\n"
     ]
    },
    {
     "name": "stdout",
     "output_type": "stream",
     "text": [
      "Path to dataset files: /root/.cache/kagglehub/datasets/nikhilroxtomar/ct-heart-segmentation/versions/1\n"
     ]
    }
   ],
   "source": [
    "import kagglehub\n",
    "\n",
    "# Download latest version\n",
    "path = kagglehub.dataset_download(\"nikhilroxtomar/ct-heart-segmentation\")\n",
    "\n",
    "print(\"Path to dataset files:\", path)"
   ]
  },
  {
   "cell_type": "code",
   "execution_count": null,
   "metadata": {
    "id": "yltGsglmklBm"
   },
   "outputs": [],
   "source": [
    "import os\n",
    "import random\n",
    "import time\n",
    "from glob import glob\n",
    "import cv2 as cv\n",
    "import numpy as np\n",
    "from PIL import Image\n",
    "import matplotlib.pyplot as plt\n",
    "import pydicom\n",
    "\n",
    "import torch\n",
    "import torch.nn as nn\n",
    "import torch.optim as optim\n",
    "from torch.utils.data import Dataset, DataLoader\n",
    "from torchvision import transforms\n",
    "import torchvision.transforms.functional as F\n",
    "from sklearn.model_selection import train_test_split\n",
    "from tqdm import tqdm\n",
    "from torchsummary import summary\n"
   ]
  },
  {
   "cell_type": "code",
   "execution_count": null,
   "metadata": {
    "id": "ua67PXT8kl8N"
   },
   "outputs": [],
   "source": [
    "os.chdir(path)"
   ]
  },
  {
   "cell_type": "code",
   "execution_count": null,
   "metadata": {
    "colab": {
     "base_uri": "https://localhost:8080/"
    },
    "executionInfo": {
     "elapsed": 89,
     "status": "ok",
     "timestamp": 1761090656084,
     "user": {
      "displayName": "Aly Elbana",
      "userId": "07065788760833618885"
     },
     "user_tz": -180
    },
    "id": "Sf6cP7W3kuC0",
    "outputId": "b0b01ed0-76d3-4dbb-c237-df77e8be9f38"
   },
   "outputs": [
    {
     "name": "stdout",
     "output_type": "stream",
     "text": [
      "./data/test/100251/2-0OPAGELSQXD3602.5120nullnullnull-72944:\n",
      "1-001.dcm  1-019.dcm  1-037.dcm  1-055.dcm  1-073.dcm  1-091.dcm  1-109.dcm\n",
      "1-002.dcm  1-020.dcm  1-038.dcm  1-056.dcm  1-074.dcm  1-092.dcm  1-110.dcm\n",
      "1-003.dcm  1-021.dcm  1-039.dcm  1-057.dcm  1-075.dcm  1-093.dcm  1-111.dcm\n",
      "1-004.dcm  1-022.dcm  1-040.dcm  1-058.dcm  1-076.dcm  1-094.dcm  1-112.dcm\n",
      "1-005.dcm  1-023.dcm  1-041.dcm  1-059.dcm  1-077.dcm  1-095.dcm  1-113.dcm\n",
      "1-006.dcm  1-024.dcm  1-042.dcm  1-060.dcm  1-078.dcm  1-096.dcm  1-114.dcm\n",
      "1-007.dcm  1-025.dcm  1-043.dcm  1-061.dcm  1-079.dcm  1-097.dcm  1-115.dcm\n",
      "1-008.dcm  1-026.dcm  1-044.dcm  1-062.dcm  1-080.dcm  1-098.dcm  1-116.dcm\n",
      "1-009.dcm  1-027.dcm  1-045.dcm  1-063.dcm  1-081.dcm  1-099.dcm  1-117.dcm\n",
      "1-010.dcm  1-028.dcm  1-046.dcm  1-064.dcm  1-082.dcm  1-100.dcm  1-118.dcm\n",
      "1-011.dcm  1-029.dcm  1-047.dcm  1-065.dcm  1-083.dcm  1-101.dcm  1-119.dcm\n",
      "1-012.dcm  1-030.dcm  1-048.dcm  1-066.dcm  1-084.dcm  1-102.dcm  1-120.dcm\n",
      "1-013.dcm  1-031.dcm  1-049.dcm  1-067.dcm  1-085.dcm  1-103.dcm  1-121.dcm\n",
      "1-014.dcm  1-032.dcm  1-050.dcm  1-068.dcm  1-086.dcm  1-104.dcm  1-122.dcm\n",
      "1-015.dcm  1-033.dcm  1-051.dcm  1-069.dcm  1-087.dcm  1-105.dcm  1-123.dcm\n",
      "1-016.dcm  1-034.dcm  1-052.dcm  1-070.dcm  1-088.dcm  1-106.dcm  1-124.dcm\n",
      "1-017.dcm  1-035.dcm  1-053.dcm  1-071.dcm  1-089.dcm  1-107.dcm  1-125.dcm\n",
      "1-018.dcm  1-036.dcm  1-054.dcm  1-072.dcm  1-090.dcm  1-108.dcm\n",
      "\n",
      "./data/test/100252/2-0OPAGEHSQXD2602.512056.00.11.5-55621:\n",
      "1-001.dcm  1-019.dcm  1-037.dcm  1-055.dcm  1-073.dcm  1-091.dcm  1-109.dcm\n",
      "1-002.dcm  1-020.dcm  1-038.dcm  1-056.dcm  1-074.dcm  1-092.dcm  1-110.dcm\n",
      "1-003.dcm  1-021.dcm  1-039.dcm  1-057.dcm  1-075.dcm  1-093.dcm  1-111.dcm\n",
      "1-004.dcm  1-022.dcm  1-040.dcm  1-058.dcm  1-076.dcm  1-094.dcm  1-112.dcm\n",
      "1-005.dcm  1-023.dcm  1-041.dcm  1-059.dcm  1-077.dcm  1-095.dcm  1-113.dcm\n",
      "1-006.dcm  1-024.dcm  1-042.dcm  1-060.dcm  1-078.dcm  1-096.dcm  1-114.dcm\n",
      "1-007.dcm  1-025.dcm  1-043.dcm  1-061.dcm  1-079.dcm  1-097.dcm  1-115.dcm\n",
      "1-008.dcm  1-026.dcm  1-044.dcm  1-062.dcm  1-080.dcm  1-098.dcm  1-116.dcm\n",
      "1-009.dcm  1-027.dcm  1-045.dcm  1-063.dcm  1-081.dcm  1-099.dcm  1-117.dcm\n",
      "1-010.dcm  1-028.dcm  1-046.dcm  1-064.dcm  1-082.dcm  1-100.dcm  1-118.dcm\n",
      "1-011.dcm  1-029.dcm  1-047.dcm  1-065.dcm  1-083.dcm  1-101.dcm  1-119.dcm\n",
      "1-012.dcm  1-030.dcm  1-048.dcm  1-066.dcm  1-084.dcm  1-102.dcm  1-120.dcm\n",
      "1-013.dcm  1-031.dcm  1-049.dcm  1-067.dcm  1-085.dcm  1-103.dcm  1-121.dcm\n",
      "1-014.dcm  1-032.dcm  1-050.dcm  1-068.dcm  1-086.dcm  1-104.dcm  1-122.dcm\n",
      "1-015.dcm  1-033.dcm  1-051.dcm  1-069.dcm  1-087.dcm  1-105.dcm  1-123.dcm\n",
      "1-016.dcm  1-034.dcm  1-052.dcm  1-070.dcm  1-088.dcm  1-106.dcm  1-124.dcm\n",
      "1-017.dcm  1-035.dcm  1-053.dcm  1-071.dcm  1-089.dcm  1-107.dcm  1-125.dcm\n",
      "1-018.dcm  1-036.dcm  1-054.dcm  1-072.dcm  1-090.dcm  1-108.dcm\n",
      "\n",
      "./data/test/100253/2-0OPASEVZOOMB50f366212060.030.0null-89947:\n",
      "1-001.dcm  1-025.dcm  1-049.dcm  1-073.dcm  1-097.dcm  1-121.dcm  1-145.dcm\n",
      "1-002.dcm  1-026.dcm  1-050.dcm  1-074.dcm  1-098.dcm  1-122.dcm  1-146.dcm\n",
      "1-003.dcm  1-027.dcm  1-051.dcm  1-075.dcm  1-099.dcm  1-123.dcm  1-147.dcm\n",
      "1-004.dcm  1-028.dcm  1-052.dcm  1-076.dcm  1-100.dcm  1-124.dcm  1-148.dcm\n",
      "1-005.dcm  1-029.dcm  1-053.dcm  1-077.dcm  1-101.dcm  1-125.dcm  1-149.dcm\n",
      "1-006.dcm  1-030.dcm  1-054.dcm  1-078.dcm  1-102.dcm  1-126.dcm  1-150.dcm\n",
      "1-007.dcm  1-031.dcm  1-055.dcm  1-079.dcm  1-103.dcm  1-127.dcm  1-151.dcm\n",
      "1-008.dcm  1-032.dcm  1-056.dcm  1-080.dcm  1-104.dcm  1-128.dcm  1-152.dcm\n",
      "1-009.dcm  1-033.dcm  1-057.dcm  1-081.dcm  1-105.dcm  1-129.dcm  1-153.dcm\n",
      "1-010.dcm  1-034.dcm  1-058.dcm  1-082.dcm  1-106.dcm  1-130.dcm  1-154.dcm\n",
      "1-011.dcm  1-035.dcm  1-059.dcm  1-083.dcm  1-107.dcm  1-131.dcm  1-155.dcm\n",
      "1-012.dcm  1-036.dcm  1-060.dcm  1-084.dcm  1-108.dcm  1-132.dcm  1-156.dcm\n",
      "1-013.dcm  1-037.dcm  1-061.dcm  1-085.dcm  1-109.dcm  1-133.dcm  1-157.dcm\n",
      "1-014.dcm  1-038.dcm  1-062.dcm  1-086.dcm  1-110.dcm  1-134.dcm  1-158.dcm\n",
      "1-015.dcm  1-039.dcm  1-063.dcm  1-087.dcm  1-111.dcm  1-135.dcm  1-159.dcm\n",
      "1-016.dcm  1-040.dcm  1-064.dcm  1-088.dcm  1-112.dcm  1-136.dcm  1-160.dcm\n",
      "1-017.dcm  1-041.dcm  1-065.dcm  1-089.dcm  1-113.dcm  1-137.dcm  1-161.dcm\n",
      "1-018.dcm  1-042.dcm  1-066.dcm  1-090.dcm  1-114.dcm  1-138.dcm  1-162.dcm\n",
      "1-019.dcm  1-043.dcm  1-067.dcm  1-091.dcm  1-115.dcm  1-139.dcm  1-163.dcm\n",
      "1-020.dcm  1-044.dcm  1-068.dcm  1-092.dcm  1-116.dcm  1-140.dcm  1-164.dcm\n",
      "1-021.dcm  1-045.dcm  1-069.dcm  1-093.dcm  1-117.dcm  1-141.dcm\n",
      "1-022.dcm  1-046.dcm  1-070.dcm  1-094.dcm  1-118.dcm  1-142.dcm\n",
      "1-023.dcm  1-047.dcm  1-071.dcm  1-095.dcm  1-119.dcm  1-143.dcm\n",
      "1-024.dcm  1-048.dcm  1-072.dcm  1-096.dcm  1-120.dcm  1-144.dcm\n",
      "\n",
      "./data/test/100254/2300-0OPAPHMX8000C3803.2120.00000045.036.01.25-04598:\n",
      "1-001.dcm  1-023.dcm  1-045.dcm  1-067.dcm  1-089.dcm  1-111.dcm  1-133.dcm\n",
      "1-002.dcm  1-024.dcm  1-046.dcm  1-068.dcm  1-090.dcm  1-112.dcm  1-134.dcm\n",
      "1-003.dcm  1-025.dcm  1-047.dcm  1-069.dcm  1-091.dcm  1-113.dcm  1-135.dcm\n",
      "1-004.dcm  1-026.dcm  1-048.dcm  1-070.dcm  1-092.dcm  1-114.dcm  1-136.dcm\n",
      "1-005.dcm  1-027.dcm  1-049.dcm  1-071.dcm  1-093.dcm  1-115.dcm  1-137.dcm\n",
      "1-006.dcm  1-028.dcm  1-050.dcm  1-072.dcm  1-094.dcm  1-116.dcm  1-138.dcm\n",
      "1-007.dcm  1-029.dcm  1-051.dcm  1-073.dcm  1-095.dcm  1-117.dcm  1-139.dcm\n",
      "1-008.dcm  1-030.dcm  1-052.dcm  1-074.dcm  1-096.dcm  1-118.dcm  1-140.dcm\n",
      "1-009.dcm  1-031.dcm  1-053.dcm  1-075.dcm  1-097.dcm  1-119.dcm  1-141.dcm\n",
      "1-010.dcm  1-032.dcm  1-054.dcm  1-076.dcm  1-098.dcm  1-120.dcm  1-142.dcm\n",
      "1-011.dcm  1-033.dcm  1-055.dcm  1-077.dcm  1-099.dcm  1-121.dcm  1-143.dcm\n",
      "1-012.dcm  1-034.dcm  1-056.dcm  1-078.dcm  1-100.dcm  1-122.dcm  1-144.dcm\n",
      "1-013.dcm  1-035.dcm  1-057.dcm  1-079.dcm  1-101.dcm  1-123.dcm  1-145.dcm\n",
      "1-014.dcm  1-036.dcm  1-058.dcm  1-080.dcm  1-102.dcm  1-124.dcm  1-146.dcm\n",
      "1-015.dcm  1-037.dcm  1-059.dcm  1-081.dcm  1-103.dcm  1-125.dcm  1-147.dcm\n",
      "1-016.dcm  1-038.dcm  1-060.dcm  1-082.dcm  1-104.dcm  1-126.dcm  1-148.dcm\n",
      "1-017.dcm  1-039.dcm  1-061.dcm  1-083.dcm  1-105.dcm  1-127.dcm\n",
      "1-018.dcm  1-040.dcm  1-062.dcm  1-084.dcm  1-106.dcm  1-128.dcm\n",
      "1-019.dcm  1-041.dcm  1-063.dcm  1-085.dcm  1-107.dcm  1-129.dcm\n",
      "1-020.dcm  1-042.dcm  1-064.dcm  1-086.dcm  1-108.dcm  1-130.dcm\n",
      "1-021.dcm  1-043.dcm  1-065.dcm  1-087.dcm  1-109.dcm  1-131.dcm\n",
      "1-022.dcm  1-044.dcm  1-066.dcm  1-088.dcm  1-110.dcm  1-132.dcm\n",
      "\n",
      "./data/test/100256/2-0OPASESEN16B30f3122120.00000040.032.0null-25524:\n",
      "1-001.dcm  1-020.dcm  1-039.dcm  1-058.dcm  1-077.dcm  1-096.dcm  1-115.dcm\n",
      "1-002.dcm  1-021.dcm  1-040.dcm  1-059.dcm  1-078.dcm  1-097.dcm  1-116.dcm\n",
      "1-003.dcm  1-022.dcm  1-041.dcm  1-060.dcm  1-079.dcm  1-098.dcm  1-117.dcm\n",
      "1-004.dcm  1-023.dcm  1-042.dcm  1-061.dcm  1-080.dcm  1-099.dcm  1-118.dcm\n",
      "1-005.dcm  1-024.dcm  1-043.dcm  1-062.dcm  1-081.dcm  1-100.dcm  1-119.dcm\n",
      "1-006.dcm  1-025.dcm  1-044.dcm  1-063.dcm  1-082.dcm  1-101.dcm  1-120.dcm\n",
      "1-007.dcm  1-026.dcm  1-045.dcm  1-064.dcm  1-083.dcm  1-102.dcm  1-121.dcm\n",
      "1-008.dcm  1-027.dcm  1-046.dcm  1-065.dcm  1-084.dcm  1-103.dcm  1-122.dcm\n",
      "1-009.dcm  1-028.dcm  1-047.dcm  1-066.dcm  1-085.dcm  1-104.dcm  1-123.dcm\n",
      "1-010.dcm  1-029.dcm  1-048.dcm  1-067.dcm  1-086.dcm  1-105.dcm  1-124.dcm\n",
      "1-011.dcm  1-030.dcm  1-049.dcm  1-068.dcm  1-087.dcm  1-106.dcm  1-125.dcm\n",
      "1-012.dcm  1-031.dcm  1-050.dcm  1-069.dcm  1-088.dcm  1-107.dcm  1-126.dcm\n",
      "1-013.dcm  1-032.dcm  1-051.dcm  1-070.dcm  1-089.dcm  1-108.dcm  1-127.dcm\n",
      "1-014.dcm  1-033.dcm  1-052.dcm  1-071.dcm  1-090.dcm  1-109.dcm  1-128.dcm\n",
      "1-015.dcm  1-034.dcm  1-053.dcm  1-072.dcm  1-091.dcm  1-110.dcm\n",
      "1-016.dcm  1-035.dcm  1-054.dcm  1-073.dcm  1-092.dcm  1-111.dcm\n",
      "1-017.dcm  1-036.dcm  1-055.dcm  1-074.dcm  1-093.dcm  1-112.dcm\n",
      "1-018.dcm  1-037.dcm  1-056.dcm  1-075.dcm  1-094.dcm  1-113.dcm\n",
      "1-019.dcm  1-038.dcm  1-057.dcm  1-076.dcm  1-095.dcm  1-114.dcm\n",
      "\n",
      "./data/test/100258/5361-0OPAPHMX8000C3403.2120.00000099.7579.01.25-26250:\n",
      "1-001.dcm  1-022.dcm  1-043.dcm  1-064.dcm  1-085.dcm  1-106.dcm  1-127.dcm\n",
      "1-002.dcm  1-023.dcm  1-044.dcm  1-065.dcm  1-086.dcm  1-107.dcm  1-128.dcm\n",
      "1-003.dcm  1-024.dcm  1-045.dcm  1-066.dcm  1-087.dcm  1-108.dcm  1-129.dcm\n",
      "1-004.dcm  1-025.dcm  1-046.dcm  1-067.dcm  1-088.dcm  1-109.dcm  1-130.dcm\n",
      "1-005.dcm  1-026.dcm  1-047.dcm  1-068.dcm  1-089.dcm  1-110.dcm  1-131.dcm\n",
      "1-006.dcm  1-027.dcm  1-048.dcm  1-069.dcm  1-090.dcm  1-111.dcm  1-132.dcm\n",
      "1-007.dcm  1-028.dcm  1-049.dcm  1-070.dcm  1-091.dcm  1-112.dcm  1-133.dcm\n",
      "1-008.dcm  1-029.dcm  1-050.dcm  1-071.dcm  1-092.dcm  1-113.dcm  1-134.dcm\n",
      "1-009.dcm  1-030.dcm  1-051.dcm  1-072.dcm  1-093.dcm  1-114.dcm  1-135.dcm\n",
      "1-010.dcm  1-031.dcm  1-052.dcm  1-073.dcm  1-094.dcm  1-115.dcm  1-136.dcm\n",
      "1-011.dcm  1-032.dcm  1-053.dcm  1-074.dcm  1-095.dcm  1-116.dcm  1-137.dcm\n",
      "1-012.dcm  1-033.dcm  1-054.dcm  1-075.dcm  1-096.dcm  1-117.dcm  1-138.dcm\n",
      "1-013.dcm  1-034.dcm  1-055.dcm  1-076.dcm  1-097.dcm  1-118.dcm  1-139.dcm\n",
      "1-014.dcm  1-035.dcm  1-056.dcm  1-077.dcm  1-098.dcm  1-119.dcm  1-140.dcm\n",
      "1-015.dcm  1-036.dcm  1-057.dcm  1-078.dcm  1-099.dcm  1-120.dcm  1-141.dcm\n",
      "1-016.dcm  1-037.dcm  1-058.dcm  1-079.dcm  1-100.dcm  1-121.dcm  1-142.dcm\n",
      "1-017.dcm  1-038.dcm  1-059.dcm  1-080.dcm  1-101.dcm  1-122.dcm\n",
      "1-018.dcm  1-039.dcm  1-060.dcm  1-081.dcm  1-102.dcm  1-123.dcm\n",
      "1-019.dcm  1-040.dcm  1-061.dcm  1-082.dcm  1-103.dcm  1-124.dcm\n",
      "1-020.dcm  1-041.dcm  1-062.dcm  1-083.dcm  1-104.dcm  1-125.dcm\n",
      "1-021.dcm  1-042.dcm  1-063.dcm  1-084.dcm  1-105.dcm  1-126.dcm\n"
     ]
    }
   ],
   "source": [
    "!ls ./data/test/*/*"
   ]
  },
  {
   "cell_type": "code",
   "execution_count": null,
   "metadata": {
    "colab": {
     "base_uri": "https://localhost:8080/"
    },
    "executionInfo": {
     "elapsed": 6,
     "status": "ok",
     "timestamp": 1761090656301,
     "user": {
      "displayName": "Aly Elbana",
      "userId": "07065788760833618885"
     },
     "user_tz": -180
    },
    "id": "mhcFqUhWkuwO",
    "outputId": "b4d51d58-ffb7-414e-84dc-60b6b192a61f"
   },
   "outputs": [
    {
     "data": {
      "text/plain": [
       "('data/train', 'data/test')"
      ]
     },
     "execution_count": 8,
     "metadata": {},
     "output_type": "execute_result"
    }
   ],
   "source": [
    "dataset_path = os.path.join(\"data\", \"train\")\n",
    "test_dataset_path = os.path.join(\"data\", \"test\")\n",
    "\n",
    "dataset_path, test_dataset_path"
   ]
  },
  {
   "cell_type": "code",
   "execution_count": null,
   "metadata": {
    "id": "voUJXTeakwiN"
   },
   "outputs": [],
   "source": [
    "def create_dir(path):\n",
    "    if not os.path.exists(path):\n",
    "        os.makedirs(path)"
   ]
  },
  {
   "cell_type": "code",
   "execution_count": null,
   "metadata": {
    "id": "WZ7eS6q7kyNG"
   },
   "outputs": [],
   "source": [
    "class SegmentationTrainTransform:\n",
    "    def __init__(self, image_size=(512, 512)):\n",
    "        self.image_size = image_size\n",
    "\n",
    "    def __call__(self, image, mask):\n",
    "        image = F.resize(image, self.image_size)\n",
    "        mask = F.resize(mask, self.image_size)\n",
    "        if random.random() < 0.5:\n",
    "            image, mask = F.hflip(image), F.hflip(mask)\n",
    "        if random.random() < 0.5:\n",
    "            image, mask = F.vflip(image), F.vflip(mask)\n",
    "        angle = random.uniform(-20, 20)\n",
    "        image, mask = F.rotate(image, angle), F.rotate(mask, angle)\n",
    "        image = F.to_tensor(image)\n",
    "        mask = F.pil_to_tensor(mask)\n",
    "        image = F.normalize(image, mean=[0.5], std=[0.5])\n",
    "        return image, mask\n",
    "\n",
    "class SegmentationValTransform:\n",
    "    def __init__(self, image_size=(512, 512)):\n",
    "        self.image_size = image_size\n",
    "\n",
    "    def __call__(self, image, mask=None):\n",
    "        image = F.resize(image, self.image_size)\n",
    "        image = F.to_tensor(image)\n",
    "        image = F.normalize(image, mean=[0.5], std=[0.5])\n",
    "\n",
    "        if mask is not None:\n",
    "            mask = F.resize(mask, self.image_size)\n",
    "            mask = F.pil_to_tensor(mask)\n",
    "            return image, mask\n",
    "\n",
    "        return image"
   ]
  },
  {
   "cell_type": "code",
   "execution_count": null,
   "metadata": {
    "id": "HY2v7j9Jkzq-"
   },
   "outputs": [],
   "source": [
    "class SegmentationDataset(Dataset):\n",
    "    def __init__(self, image_paths, mask_paths, transform=None):\n",
    "        self.image_paths = image_paths\n",
    "        self.mask_paths = mask_paths\n",
    "        self.transform = transform\n",
    "\n",
    "    def __len__(self):\n",
    "        return len(self.image_paths)\n",
    "\n",
    "    def __getitem__(self, idx):\n",
    "        image = Image.open(self.image_paths[idx]).convert(\"L\")\n",
    "        mask = Image.open(self.mask_paths[idx]).convert(\"L\")\n",
    "\n",
    "        if self.transform:\n",
    "            image, mask = self.transform(image, mask)\n",
    "\n",
    "        image = image.float()\n",
    "        mask = mask.float() / 255.0\n",
    "        return image, mask\n",
    "\n",
    "\n",
    "\n",
    "class DICOMTestDataset(Dataset):\n",
    "    def __init__(self, image_paths, transform=None):\n",
    "        self.image_paths = image_paths\n",
    "        self.transform = transform\n",
    "\n",
    "    def __len__(self):\n",
    "        return len(self.image_paths)\n",
    "\n",
    "    def __getitem__(self, idx):\n",
    "        img_path = self.image_paths[idx]\n",
    "\n",
    "        dcm_image = pydicom.dcmread(img_path)\n",
    "        image_array = dcm_image.pixel_array\n",
    "\n",
    "        img_norm = (image_array - image_array.min()) / (image_array.max() - image_array.min() + 1e-6)\n",
    "        image_array_uint8 = (img_norm * 255.0).astype(np.uint8)\n",
    "\n",
    "        image = Image.fromarray(image_array_uint8).convert(\"L\")\n",
    "\n",
    "        if self.transform:\n",
    "            image = self.transform(image)\n",
    "\n",
    "        image = image.float()\n",
    "\n",
    "        return image, img_path\n",
    "\n",
    "\n",
    "\n",
    "\n",
    "def load_data(path, test_path, val_split=0.2, train_transform=None, val_transform=None):\n",
    "    images = sorted(glob(os.path.join(path, \"*\", \"image\", \"*.png\")))\n",
    "    masks = sorted(glob(os.path.join(path, \"*\", \"mask\", \"*.png\")))\n",
    "\n",
    "    X_train, X_val, y_train, y_val = train_test_split(\n",
    "        images, masks, test_size=val_split, random_state=42\n",
    "    )\n",
    "\n",
    "    train_dataset = SegmentationDataset(X_train, y_train, train_transform)\n",
    "    val_dataset = SegmentationDataset(X_val, y_val, val_transform)\n",
    "\n",
    "    X_test = sorted(glob(os.path.join(test_path, \"*\", \"*\",\"*.dcm\")))\n",
    "\n",
    "\n",
    "    test_dataset = DICOMTestDataset(X_test, transform=val_transform)\n",
    "\n",
    "    print(f\"Found {len(train_dataset)} training images.\")\n",
    "    print(f\"Found {len(val_dataset)} validation images.\")\n",
    "    print(f\"Found {len(test_dataset)} test images.\")\n",
    "\n",
    "    return train_dataset, val_dataset, test_dataset"
   ]
  },
  {
   "cell_type": "markdown",
   "metadata": {
    "id": "vIuypRTao5xp"
   },
   "source": [
    "## model building"
   ]
  },
  {
   "cell_type": "code",
   "execution_count": null,
   "metadata": {
    "id": "aaP52As2n4rq"
   },
   "outputs": [],
   "source": [
    "class UNet(nn.Module):\n",
    "    def __init__(self, in_channels=1, out_channels=1, init_features=64):\n",
    "        super(UNet, self).__init__()\n",
    "        features = init_features\n",
    "\n",
    "        self.encoder1 = self.block(in_channels, features)\n",
    "        self.pool1 = nn.MaxPool2d(2)\n",
    "        self.encoder2 = self.block(features, features * 2)\n",
    "        self.pool2 = nn.MaxPool2d(2)\n",
    "        self.encoder3 = self.block(features * 2, features * 4)\n",
    "        self.pool3 = nn.MaxPool2d(2)\n",
    "        self.encoder4 = self.block(features * 4, features * 8)\n",
    "        self.pool4 = nn.MaxPool2d(2)\n",
    "\n",
    "        self.bottleneck = self.block(features * 8, features * 16)\n",
    "\n",
    "        self.upconv4 = nn.ConvTranspose2d(features * 16, features * 8, 2, stride=2)\n",
    "        self.decoder4 = self.block(features * 16, features * 8)\n",
    "\n",
    "        self.upconv3 = nn.ConvTranspose2d(features * 8, features * 4, 2, stride=2)\n",
    "        self.decoder3 = self.block(features * 8, features * 4)\n",
    "\n",
    "        self.upconv2 = nn.ConvTranspose2d(features * 4, features * 2, 2, stride=2)\n",
    "        self.decoder2 = self.block(features * 4, features * 2)\n",
    "\n",
    "        self.upconv1 = nn.ConvTranspose2d(features * 2, features, 2, stride=2)\n",
    "        self.decoder1 = self.block(features * 2, features)\n",
    "\n",
    "        self.conv_final = nn.Conv2d(features, out_channels, kernel_size=1)\n",
    "\n",
    "    def block(self, in_channels, out_channels):\n",
    "        return nn.Sequential(\n",
    "            nn.Conv2d(in_channels, out_channels, 3, padding=1, bias=False),\n",
    "            nn.BatchNorm2d(out_channels),\n",
    "            nn.ReLU(inplace=True),\n",
    "            nn.Dropout(0.1),\n",
    "            nn.Conv2d(out_channels, out_channels, 3, padding=1, bias=False),\n",
    "            nn.BatchNorm2d(out_channels),\n",
    "            nn.ReLU(inplace=True)\n",
    "        )\n",
    "\n",
    "    def forward(self, x):\n",
    "        enc1 = self.encoder1(x)\n",
    "        enc2 = self.encoder2(self.pool1(enc1))\n",
    "        enc3 = self.encoder3(self.pool2(enc2))\n",
    "        enc4 = self.encoder4(self.pool3(enc3))\n",
    "        bottleneck = self.bottleneck(self.pool4(enc4))\n",
    "\n",
    "        dec4 = self.upconv4(bottleneck)\n",
    "        dec4 = torch.cat((dec4, enc4), dim=1)\n",
    "        dec4 = self.decoder4(dec4)\n",
    "\n",
    "        dec3 = self.upconv3(dec4)\n",
    "        dec3 = torch.cat((dec3, enc3), dim=1)\n",
    "        dec3 = self.decoder3(dec3)\n",
    "\n",
    "        dec2 = self.upconv2(dec3)\n",
    "        dec2 = torch.cat((dec2, enc2), dim=1)\n",
    "        dec2 = self.decoder2(dec2)\n",
    "\n",
    "        dec1 = self.upconv1(dec2)\n",
    "        dec1 = torch.cat((dec1, enc1), dim=1)\n",
    "        dec1 = self.decoder1(dec1)\n",
    "\n",
    "        return self.conv_final(dec1)"
   ]
  },
  {
   "cell_type": "code",
   "execution_count": null,
   "metadata": {
    "id": "Yjzf4jBdM2Xg"
   },
   "outputs": [],
   "source": [
    "class BCEDiceLoss(nn.Module):\n",
    "    def __init__(self, smooth=1.0):\n",
    "        super(BCEDiceLoss, self).__init__()\n",
    "        self.smooth = smooth\n",
    "        self.bce = nn.BCEWithLogitsLoss()\n",
    "\n",
    "    def forward(self, inputs, targets):\n",
    "        if inputs.size() != targets.size():\n",
    "            targets = F.interpolate(targets, size=inputs.shape[2:], mode=\"nearest\")\n",
    "\n",
    "        bce_loss = self.bce(inputs, targets)\n",
    "\n",
    "        probs = torch.sigmoid(inputs)\n",
    "        targets = targets.float()\n",
    "\n",
    "        probs_flat = probs.contiguous().view(probs.size(0), -1)\n",
    "        targets_flat = targets.contiguous().view(targets.size(0), -1)\n",
    "\n",
    "        intersection = (probs_flat * targets_flat).sum(dim=1)\n",
    "        dice_score = (2. * intersection + self.smooth) / (\n",
    "            probs_flat.sum(dim=1) + targets_flat.sum(dim=1) + self.smooth\n",
    "        )\n",
    "        dice_loss = 1 - dice_score.mean()\n",
    "\n",
    "        total_loss = bce_loss + dice_loss\n",
    "        return total_loss\n"
   ]
  },
  {
   "cell_type": "code",
   "execution_count": null,
   "metadata": {
    "colab": {
     "base_uri": "https://localhost:8080/"
    },
    "executionInfo": {
     "elapsed": 2068,
     "status": "ok",
     "timestamp": 1761090664925,
     "user": {
      "displayName": "Aly Elbana",
      "userId": "07065788760833618885"
     },
     "user_tz": -180
    },
    "id": "kFz70q8QqWSH",
    "outputId": "2e6fc1c1-9ad4-417a-ab3e-3bba4710e281"
   },
   "outputs": [
    {
     "name": "stdout",
     "output_type": "stream",
     "text": [
      "Found 2025 training images.\n",
      "Found 507 validation images.\n",
      "Found 832 test images.\n"
     ]
    },
    {
     "name": "stderr",
     "output_type": "stream",
     "text": [
      "/usr/local/lib/python3.12/dist-packages/torch/utils/data/dataloader.py:627: UserWarning: This DataLoader will create 4 worker processes in total. Our suggested max number of worker in current system is 2, which is smaller than what this DataLoader is going to create. Please be aware that excessive worker creation might get DataLoader running slow or even freeze, lower the worker number to avoid potential slowness/freeze if necessary.\n",
      "  warnings.warn(\n"
     ]
    },
    {
     "name": "stdout",
     "output_type": "stream",
     "text": [
      "----------------------------------------------------------------\n",
      "        Layer (type)               Output Shape         Param #\n",
      "================================================================\n",
      "            Conv2d-1         [-1, 64, 512, 512]             576\n",
      "       BatchNorm2d-2         [-1, 64, 512, 512]             128\n",
      "              ReLU-3         [-1, 64, 512, 512]               0\n",
      "           Dropout-4         [-1, 64, 512, 512]               0\n",
      "            Conv2d-5         [-1, 64, 512, 512]          36,864\n",
      "       BatchNorm2d-6         [-1, 64, 512, 512]             128\n",
      "              ReLU-7         [-1, 64, 512, 512]               0\n",
      "         MaxPool2d-8         [-1, 64, 256, 256]               0\n",
      "            Conv2d-9        [-1, 128, 256, 256]          73,728\n",
      "      BatchNorm2d-10        [-1, 128, 256, 256]             256\n",
      "             ReLU-11        [-1, 128, 256, 256]               0\n",
      "          Dropout-12        [-1, 128, 256, 256]               0\n",
      "           Conv2d-13        [-1, 128, 256, 256]         147,456\n",
      "      BatchNorm2d-14        [-1, 128, 256, 256]             256\n",
      "             ReLU-15        [-1, 128, 256, 256]               0\n",
      "        MaxPool2d-16        [-1, 128, 128, 128]               0\n",
      "           Conv2d-17        [-1, 256, 128, 128]         294,912\n",
      "      BatchNorm2d-18        [-1, 256, 128, 128]             512\n",
      "             ReLU-19        [-1, 256, 128, 128]               0\n",
      "          Dropout-20        [-1, 256, 128, 128]               0\n",
      "           Conv2d-21        [-1, 256, 128, 128]         589,824\n",
      "      BatchNorm2d-22        [-1, 256, 128, 128]             512\n",
      "             ReLU-23        [-1, 256, 128, 128]               0\n",
      "        MaxPool2d-24          [-1, 256, 64, 64]               0\n",
      "           Conv2d-25          [-1, 512, 64, 64]       1,179,648\n",
      "      BatchNorm2d-26          [-1, 512, 64, 64]           1,024\n",
      "             ReLU-27          [-1, 512, 64, 64]               0\n",
      "          Dropout-28          [-1, 512, 64, 64]               0\n",
      "           Conv2d-29          [-1, 512, 64, 64]       2,359,296\n",
      "      BatchNorm2d-30          [-1, 512, 64, 64]           1,024\n",
      "             ReLU-31          [-1, 512, 64, 64]               0\n",
      "        MaxPool2d-32          [-1, 512, 32, 32]               0\n",
      "           Conv2d-33         [-1, 1024, 32, 32]       4,718,592\n",
      "      BatchNorm2d-34         [-1, 1024, 32, 32]           2,048\n",
      "             ReLU-35         [-1, 1024, 32, 32]               0\n",
      "          Dropout-36         [-1, 1024, 32, 32]               0\n",
      "           Conv2d-37         [-1, 1024, 32, 32]       9,437,184\n",
      "      BatchNorm2d-38         [-1, 1024, 32, 32]           2,048\n",
      "             ReLU-39         [-1, 1024, 32, 32]               0\n",
      "  ConvTranspose2d-40          [-1, 512, 64, 64]       2,097,664\n",
      "           Conv2d-41          [-1, 512, 64, 64]       4,718,592\n",
      "      BatchNorm2d-42          [-1, 512, 64, 64]           1,024\n",
      "             ReLU-43          [-1, 512, 64, 64]               0\n",
      "          Dropout-44          [-1, 512, 64, 64]               0\n",
      "           Conv2d-45          [-1, 512, 64, 64]       2,359,296\n",
      "      BatchNorm2d-46          [-1, 512, 64, 64]           1,024\n",
      "             ReLU-47          [-1, 512, 64, 64]               0\n",
      "  ConvTranspose2d-48        [-1, 256, 128, 128]         524,544\n",
      "           Conv2d-49        [-1, 256, 128, 128]       1,179,648\n",
      "      BatchNorm2d-50        [-1, 256, 128, 128]             512\n",
      "             ReLU-51        [-1, 256, 128, 128]               0\n",
      "          Dropout-52        [-1, 256, 128, 128]               0\n",
      "           Conv2d-53        [-1, 256, 128, 128]         589,824\n",
      "      BatchNorm2d-54        [-1, 256, 128, 128]             512\n",
      "             ReLU-55        [-1, 256, 128, 128]               0\n",
      "  ConvTranspose2d-56        [-1, 128, 256, 256]         131,200\n",
      "           Conv2d-57        [-1, 128, 256, 256]         294,912\n",
      "      BatchNorm2d-58        [-1, 128, 256, 256]             256\n",
      "             ReLU-59        [-1, 128, 256, 256]               0\n",
      "          Dropout-60        [-1, 128, 256, 256]               0\n",
      "           Conv2d-61        [-1, 128, 256, 256]         147,456\n",
      "      BatchNorm2d-62        [-1, 128, 256, 256]             256\n",
      "             ReLU-63        [-1, 128, 256, 256]               0\n",
      "  ConvTranspose2d-64         [-1, 64, 512, 512]          32,832\n",
      "           Conv2d-65         [-1, 64, 512, 512]          73,728\n",
      "      BatchNorm2d-66         [-1, 64, 512, 512]             128\n",
      "             ReLU-67         [-1, 64, 512, 512]               0\n",
      "          Dropout-68         [-1, 64, 512, 512]               0\n",
      "           Conv2d-69         [-1, 64, 512, 512]          36,864\n",
      "      BatchNorm2d-70         [-1, 64, 512, 512]             128\n",
      "             ReLU-71         [-1, 64, 512, 512]               0\n",
      "           Conv2d-72          [-1, 1, 512, 512]              65\n",
      "================================================================\n",
      "Total params: 31,036,481\n",
      "Trainable params: 31,036,481\n",
      "Non-trainable params: 0\n",
      "----------------------------------------------------------------\n",
      "Input size (MB): 1.00\n",
      "Forward/backward pass size (MB): 3718.00\n",
      "Params size (MB): 118.39\n",
      "Estimated Total Size (MB): 3837.39\n",
      "----------------------------------------------------------------\n"
     ]
    }
   ],
   "source": [
    "train_transform = SegmentationTrainTransform((512, 512))\n",
    "val_transform = SegmentationValTransform((512, 512))\n",
    "train_dataset, val_dataset, test_dataset = load_data(dataset_path, test_dataset_path, 0.2, train_transform, val_transform)\n",
    "\n",
    "train_loader = DataLoader(train_dataset, batch_size=4, shuffle=True, num_workers=4, pin_memory=True)\n",
    "val_loader = DataLoader(val_dataset, batch_size=4, shuffle=False, num_workers=4, pin_memory=True)\n",
    "test_loader = DataLoader(test_dataset, batch_size=4, shuffle=False, num_workers=4, pin_memory=True)\n",
    "\n",
    "\n",
    "device = torch.device(\"cuda\" if torch.cuda.is_available() else \"cpu\")\n",
    "model = UNet(in_channels=1, out_channels=1).to(device)\n",
    "summary(model, (1, 512, 512))\n",
    "\n",
    "criterion = BCEDiceLoss()\n",
    "optimizer = optim.AdamW(model.parameters(), lr=1e-4)\n",
    "\n"
   ]
  },
  {
   "cell_type": "code",
   "execution_count": null,
   "metadata": {
    "id": "DwV8B3JSBJfQ"
   },
   "outputs": [],
   "source": [
    "def dice_coefficient(preds, targets, smooth=1e-6):\n",
    "    preds = torch.sigmoid(preds)\n",
    "    preds = (preds > 0.5).float()\n",
    "    intersection = (preds * targets).sum()\n",
    "    return (2.0 * intersection + smooth) / (preds.sum() + targets.sum() + smooth)\n",
    "\n",
    "def iou_score(preds, targets, smooth=1e-6):\n",
    "    preds = torch.sigmoid(preds)\n",
    "    preds = (preds > 0.5).float()\n",
    "    intersection = (preds * targets).sum()\n",
    "    union = preds.sum() + targets.sum() - intersection\n",
    "    return (intersection + smooth) / (union + smooth)\n",
    "\n",
    "def pixel_accuracy(preds, targets):\n",
    "    preds = torch.sigmoid(preds)\n",
    "    preds = (preds > 0.5).float()\n",
    "    correct = (preds == targets).float().sum()\n",
    "    total = torch.numel(targets)\n",
    "    return correct / total\n"
   ]
  },
  {
   "cell_type": "code",
   "execution_count": null,
   "metadata": {
    "colab": {
     "base_uri": "https://localhost:8080/"
    },
    "executionInfo": {
     "elapsed": 15682770,
     "status": "ok",
     "timestamp": 1761106347692,
     "user": {
      "displayName": "Aly Elbana",
      "userId": "07065788760833618885"
     },
     "user_tz": -180
    },
    "id": "KwqTYbEnqsCH",
    "outputId": "f76bc074-d6fd-48b8-b194-191bc403658f"
   },
   "outputs": [
    {
     "name": "stderr",
     "output_type": "stream",
     "text": []
    },
    {
     "name": "stdout",
     "output_type": "stream",
     "text": [
      "\n",
      "Epoch [1/30]\n",
      "Train Loss: 1.2323\n",
      "Val Loss  : 1.3110\n",
      "Dice Score: 0.240606\n",
      "IoU Score : 0.144924\n",
      "Accuracy  : 0.824064\n",
      "Time Taken: 521.03 sec\n",
      "New best model saved to '/content/models/best_unet_model.pth'.\n",
      "------------------------------------------------------------\n"
     ]
    },
    {
     "name": "stderr",
     "output_type": "stream",
     "text": []
    },
    {
     "name": "stdout",
     "output_type": "stream",
     "text": [
      "\n",
      "Epoch [2/30]\n",
      "Train Loss: 0.9811\n",
      "Val Loss  : 0.8715\n",
      "Dice Score: 0.632841\n",
      "IoU Score : 0.510425\n",
      "Accuracy  : 0.979890\n",
      "Time Taken: 521.87 sec\n",
      "New best model saved to '/content/models/best_unet_model.pth'.\n",
      "------------------------------------------------------------\n"
     ]
    },
    {
     "name": "stderr",
     "output_type": "stream",
     "text": []
    },
    {
     "name": "stdout",
     "output_type": "stream",
     "text": [
      "\n",
      "Epoch [3/30]\n",
      "Train Loss: 0.8593\n",
      "Val Loss  : 0.8143\n",
      "Dice Score: 0.710143\n",
      "IoU Score : 0.601603\n",
      "Accuracy  : 0.986859\n",
      "Time Taken: 522.63 sec\n",
      "New best model saved to '/content/models/best_unet_model.pth'.\n",
      "------------------------------------------------------------\n"
     ]
    },
    {
     "name": "stderr",
     "output_type": "stream",
     "text": []
    },
    {
     "name": "stdout",
     "output_type": "stream",
     "text": [
      "\n",
      "Epoch [4/30]\n",
      "Train Loss: 0.7941\n",
      "Val Loss  : 0.7447\n",
      "Dice Score: 0.716553\n",
      "IoU Score : 0.614276\n",
      "Accuracy  : 0.986120\n",
      "Time Taken: 522.65 sec\n",
      "New best model saved to '/content/models/best_unet_model.pth'.\n",
      "------------------------------------------------------------\n"
     ]
    },
    {
     "name": "stderr",
     "output_type": "stream",
     "text": []
    },
    {
     "name": "stdout",
     "output_type": "stream",
     "text": [
      "\n",
      "Epoch [5/30]\n",
      "Train Loss: 0.7570\n",
      "Val Loss  : 0.7279\n",
      "Dice Score: 0.688882\n",
      "IoU Score : 0.579138\n",
      "Accuracy  : 0.982175\n",
      "Time Taken: 522.38 sec\n",
      "New best model saved to '/content/models/best_unet_model.pth'.\n",
      "------------------------------------------------------------\n"
     ]
    },
    {
     "name": "stderr",
     "output_type": "stream",
     "text": []
    },
    {
     "name": "stdout",
     "output_type": "stream",
     "text": [
      "\n",
      "Epoch [6/30]\n",
      "Train Loss: 0.7421\n",
      "Val Loss  : 0.9161\n",
      "Dice Score: 0.438622\n",
      "IoU Score : 0.304788\n",
      "Accuracy  : 0.929302\n",
      "Time Taken: 522.82 sec\n",
      "------------------------------------------------------------\n"
     ]
    },
    {
     "name": "stderr",
     "output_type": "stream",
     "text": []
    },
    {
     "name": "stdout",
     "output_type": "stream",
     "text": [
      "\n",
      "Epoch [7/30]\n",
      "Train Loss: 0.7276\n",
      "Val Loss  : 0.6929\n",
      "Dice Score: 0.751287\n",
      "IoU Score : 0.662333\n",
      "Accuracy  : 0.988850\n",
      "Time Taken: 522.80 sec\n",
      "New best model saved to '/content/models/best_unet_model.pth'.\n",
      "------------------------------------------------------------\n"
     ]
    },
    {
     "name": "stderr",
     "output_type": "stream",
     "text": []
    },
    {
     "name": "stdout",
     "output_type": "stream",
     "text": [
      "\n",
      "Epoch [8/30]\n",
      "Train Loss: 0.7159\n",
      "Val Loss  : 0.7030\n",
      "Dice Score: 0.829034\n",
      "IoU Score : 0.751378\n",
      "Accuracy  : 0.992591\n",
      "Time Taken: 522.95 sec\n",
      "------------------------------------------------------------\n"
     ]
    },
    {
     "name": "stderr",
     "output_type": "stream",
     "text": []
    },
    {
     "name": "stdout",
     "output_type": "stream",
     "text": [
      "\n",
      "Epoch [9/30]\n",
      "Train Loss: 0.7118\n",
      "Val Loss  : 0.6839\n",
      "Dice Score: 0.811225\n",
      "IoU Score : 0.732445\n",
      "Accuracy  : 0.991615\n",
      "Time Taken: 522.49 sec\n",
      "New best model saved to '/content/models/best_unet_model.pth'.\n",
      "------------------------------------------------------------\n"
     ]
    },
    {
     "name": "stderr",
     "output_type": "stream",
     "text": []
    },
    {
     "name": "stdout",
     "output_type": "stream",
     "text": [
      "\n",
      "Epoch [10/30]\n",
      "Train Loss: 0.7044\n",
      "Val Loss  : 0.6812\n",
      "Dice Score: 0.806846\n",
      "IoU Score : 0.726347\n",
      "Accuracy  : 0.991523\n",
      "Time Taken: 523.10 sec\n",
      "New best model saved to '/content/models/best_unet_model.pth'.\n",
      "------------------------------------------------------------\n"
     ]
    },
    {
     "name": "stderr",
     "output_type": "stream",
     "text": []
    },
    {
     "name": "stdout",
     "output_type": "stream",
     "text": [
      "\n",
      "Epoch [11/30]\n",
      "Train Loss: 0.7028\n",
      "Val Loss  : 0.6787\n",
      "Dice Score: 0.790515\n",
      "IoU Score : 0.706682\n",
      "Accuracy  : 0.991033\n",
      "Time Taken: 522.94 sec\n",
      "New best model saved to '/content/models/best_unet_model.pth'.\n",
      "------------------------------------------------------------\n"
     ]
    },
    {
     "name": "stderr",
     "output_type": "stream",
     "text": []
    },
    {
     "name": "stdout",
     "output_type": "stream",
     "text": [
      "\n",
      "Epoch [12/30]\n",
      "Train Loss: 0.6993\n",
      "Val Loss  : 0.6859\n",
      "Dice Score: 0.834993\n",
      "IoU Score : 0.757899\n",
      "Accuracy  : 0.992657\n",
      "Time Taken: 522.99 sec\n",
      "------------------------------------------------------------\n"
     ]
    },
    {
     "name": "stderr",
     "output_type": "stream",
     "text": []
    },
    {
     "name": "stdout",
     "output_type": "stream",
     "text": [
      "\n",
      "Epoch [13/30]\n",
      "Train Loss: 0.6972\n",
      "Val Loss  : 0.6786\n",
      "Dice Score: 0.757000\n",
      "IoU Score : 0.667418\n",
      "Accuracy  : 0.989698\n",
      "Time Taken: 522.56 sec\n",
      "New best model saved to '/content/models/best_unet_model.pth'.\n",
      "------------------------------------------------------------\n"
     ]
    },
    {
     "name": "stderr",
     "output_type": "stream",
     "text": []
    },
    {
     "name": "stdout",
     "output_type": "stream",
     "text": [
      "\n",
      "Epoch [14/30]\n",
      "Train Loss: 0.6908\n",
      "Val Loss  : 0.6505\n",
      "Dice Score: 0.831126\n",
      "IoU Score : 0.760614\n",
      "Accuracy  : 0.992797\n",
      "Time Taken: 523.71 sec\n",
      "New best model saved to '/content/models/best_unet_model.pth'.\n",
      "------------------------------------------------------------\n"
     ]
    },
    {
     "name": "stderr",
     "output_type": "stream",
     "text": []
    },
    {
     "name": "stdout",
     "output_type": "stream",
     "text": [
      "\n",
      "Epoch [15/30]\n",
      "Train Loss: 0.6022\n",
      "Val Loss  : 0.4014\n",
      "Dice Score: 0.758132\n",
      "IoU Score : 0.651600\n",
      "Accuracy  : 0.988147\n",
      "Time Taken: 523.35 sec\n",
      "New best model saved to '/content/models/best_unet_model.pth'.\n",
      "------------------------------------------------------------\n"
     ]
    },
    {
     "name": "stderr",
     "output_type": "stream",
     "text": []
    },
    {
     "name": "stdout",
     "output_type": "stream",
     "text": [
      "\n",
      "Epoch [16/30]\n",
      "Train Loss: 0.5144\n",
      "Val Loss  : 0.3016\n",
      "Dice Score: 0.764040\n",
      "IoU Score : 0.664196\n",
      "Accuracy  : 0.987875\n",
      "Time Taken: 522.71 sec\n",
      "New best model saved to '/content/models/best_unet_model.pth'.\n",
      "------------------------------------------------------------\n"
     ]
    },
    {
     "name": "stderr",
     "output_type": "stream",
     "text": []
    },
    {
     "name": "stdout",
     "output_type": "stream",
     "text": [
      "\n",
      "Epoch [17/30]\n",
      "Train Loss: 0.3241\n",
      "Val Loss  : 0.2730\n",
      "Dice Score: 0.771770\n",
      "IoU Score : 0.676092\n",
      "Accuracy  : 0.988419\n",
      "Time Taken: 522.97 sec\n",
      "New best model saved to '/content/models/best_unet_model.pth'.\n",
      "------------------------------------------------------------\n"
     ]
    },
    {
     "name": "stderr",
     "output_type": "stream",
     "text": []
    },
    {
     "name": "stdout",
     "output_type": "stream",
     "text": [
      "\n",
      "Epoch [18/30]\n",
      "Train Loss: 0.3535\n",
      "Val Loss  : 0.2565\n",
      "Dice Score: 0.786547\n",
      "IoU Score : 0.688380\n",
      "Accuracy  : 0.989359\n",
      "Time Taken: 522.38 sec\n",
      "New best model saved to '/content/models/best_unet_model.pth'.\n",
      "------------------------------------------------------------\n"
     ]
    },
    {
     "name": "stderr",
     "output_type": "stream",
     "text": []
    },
    {
     "name": "stdout",
     "output_type": "stream",
     "text": [
      "\n",
      "Epoch [19/30]\n",
      "Train Loss: 0.2815\n",
      "Val Loss  : 0.2057\n",
      "Dice Score: 0.819141\n",
      "IoU Score : 0.734407\n",
      "Accuracy  : 0.990960\n",
      "Time Taken: 522.92 sec\n",
      "New best model saved to '/content/models/best_unet_model.pth'.\n",
      "------------------------------------------------------------\n"
     ]
    },
    {
     "name": "stderr",
     "output_type": "stream",
     "text": []
    },
    {
     "name": "stdout",
     "output_type": "stream",
     "text": [
      "\n",
      "Epoch [20/30]\n",
      "Train Loss: 0.2770\n",
      "Val Loss  : 0.2074\n",
      "Dice Score: 0.822365\n",
      "IoU Score : 0.738846\n",
      "Accuracy  : 0.990556\n",
      "Time Taken: 522.46 sec\n",
      "------------------------------------------------------------\n"
     ]
    },
    {
     "name": "stderr",
     "output_type": "stream",
     "text": []
    },
    {
     "name": "stdout",
     "output_type": "stream",
     "text": [
      "\n",
      "Epoch [21/30]\n",
      "Train Loss: 0.2780\n",
      "Val Loss  : 0.3014\n",
      "Dice Score: 0.749852\n",
      "IoU Score : 0.641030\n",
      "Accuracy  : 0.987636\n",
      "Time Taken: 522.22 sec\n",
      "------------------------------------------------------------\n"
     ]
    },
    {
     "name": "stderr",
     "output_type": "stream",
     "text": []
    },
    {
     "name": "stdout",
     "output_type": "stream",
     "text": [
      "\n",
      "Epoch [22/30]\n",
      "Train Loss: 0.2635\n",
      "Val Loss  : 0.2039\n",
      "Dice Score: 0.827758\n",
      "IoU Score : 0.741973\n",
      "Accuracy  : 0.990721\n",
      "Time Taken: 522.70 sec\n",
      "New best model saved to '/content/models/best_unet_model.pth'.\n",
      "------------------------------------------------------------\n"
     ]
    },
    {
     "name": "stderr",
     "output_type": "stream",
     "text": []
    },
    {
     "name": "stdout",
     "output_type": "stream",
     "text": [
      "\n",
      "Epoch [23/30]\n",
      "Train Loss: 0.2263\n",
      "Val Loss  : 0.2191\n",
      "Dice Score: 0.835025\n",
      "IoU Score : 0.746525\n",
      "Accuracy  : 0.989888\n",
      "Time Taken: 522.39 sec\n",
      "------------------------------------------------------------\n"
     ]
    },
    {
     "name": "stderr",
     "output_type": "stream",
     "text": []
    },
    {
     "name": "stdout",
     "output_type": "stream",
     "text": [
      "\n",
      "Epoch [24/30]\n",
      "Train Loss: 0.2230\n",
      "Val Loss  : 0.1428\n",
      "Dice Score: 0.865092\n",
      "IoU Score : 0.790534\n",
      "Accuracy  : 0.992247\n",
      "Time Taken: 522.36 sec\n",
      "New best model saved to '/content/models/best_unet_model.pth'.\n",
      "------------------------------------------------------------\n"
     ]
    },
    {
     "name": "stderr",
     "output_type": "stream",
     "text": []
    },
    {
     "name": "stdout",
     "output_type": "stream",
     "text": [
      "\n",
      "Epoch [25/30]\n",
      "Train Loss: 0.2421\n",
      "Val Loss  : 0.1843\n",
      "Dice Score: 0.848499\n",
      "IoU Score : 0.769246\n",
      "Accuracy  : 0.991550\n",
      "Time Taken: 522.56 sec\n",
      "------------------------------------------------------------\n"
     ]
    },
    {
     "name": "stderr",
     "output_type": "stream",
     "text": []
    },
    {
     "name": "stdout",
     "output_type": "stream",
     "text": [
      "\n",
      "Epoch [26/30]\n",
      "Train Loss: 0.2143\n",
      "Val Loss  : 0.2003\n",
      "Dice Score: 0.835786\n",
      "IoU Score : 0.753813\n",
      "Accuracy  : 0.990942\n",
      "Time Taken: 522.62 sec\n",
      "------------------------------------------------------------\n"
     ]
    },
    {
     "name": "stderr",
     "output_type": "stream",
     "text": []
    },
    {
     "name": "stdout",
     "output_type": "stream",
     "text": [
      "\n",
      "Epoch [27/30]\n",
      "Train Loss: 0.2169\n",
      "Val Loss  : 0.2454\n",
      "Dice Score: 0.813612\n",
      "IoU Score : 0.719231\n",
      "Accuracy  : 0.989719\n",
      "Time Taken: 522.56 sec\n",
      "------------------------------------------------------------\n"
     ]
    },
    {
     "name": "stderr",
     "output_type": "stream",
     "text": []
    },
    {
     "name": "stdout",
     "output_type": "stream",
     "text": [
      "\n",
      "Epoch [28/30]\n",
      "Train Loss: 0.2335\n",
      "Val Loss  : 0.2562\n",
      "Dice Score: 0.772593\n",
      "IoU Score : 0.666387\n",
      "Accuracy  : 0.987765\n",
      "Time Taken: 522.41 sec\n",
      "------------------------------------------------------------\n"
     ]
    },
    {
     "name": "stderr",
     "output_type": "stream",
     "text": []
    },
    {
     "name": "stdout",
     "output_type": "stream",
     "text": [
      "\n",
      "Epoch [29/30]\n",
      "Train Loss: 0.2364\n",
      "Val Loss  : 0.1599\n",
      "Dice Score: 0.848151\n",
      "IoU Score : 0.766958\n",
      "Accuracy  : 0.991412\n",
      "Time Taken: 522.59 sec\n",
      "------------------------------------------------------------\n"
     ]
    },
    {
     "name": "stderr",
     "output_type": "stream",
     "text": [
      "                                                                           "
     ]
    },
    {
     "name": "stdout",
     "output_type": "stream",
     "text": [
      "\n",
      "Epoch [30/30]\n",
      "Train Loss: 0.2345\n",
      "Val Loss  : 0.2109\n",
      "Dice Score: 0.788780\n",
      "IoU Score : 0.696930\n",
      "Accuracy  : 0.990005\n",
      "Time Taken: 522.49 sec\n",
      "------------------------------------------------------------\n"
     ]
    },
    {
     "name": "stderr",
     "output_type": "stream",
     "text": [
      "\r"
     ]
    }
   ],
   "source": [
    "num_epochs = 30\n",
    "best_val_loss = float(\"inf\")\n",
    "save_path = \"/content/models/best_unet_model.pth\"\n",
    "os.makedirs(os.path.dirname(save_path), exist_ok=True)\n",
    "\n",
    "for epoch in range(1, num_epochs + 1):\n",
    "    start_time = time.time()\n",
    "    model.train()\n",
    "    running_train_loss = 0.0\n",
    "\n",
    "    train_loop = tqdm(train_loader, desc=f\"Epoch [{epoch}/{num_epochs}] Training\", leave=False)\n",
    "    for images, masks in train_loop:\n",
    "        images = images.to(device, dtype=torch.float32, non_blocking=True)\n",
    "        masks = masks.to(device, dtype=torch.float32, non_blocking=True)\n",
    "\n",
    "        optimizer.zero_grad(set_to_none=True)\n",
    "        outputs = model(images)\n",
    "        loss = criterion(outputs, masks)\n",
    "        loss.backward()\n",
    "        optimizer.step()\n",
    "\n",
    "        running_train_loss += loss.item()\n",
    "        train_loop.set_postfix(loss=f\"{loss.item():.4f}\")\n",
    "\n",
    "    avg_train_loss = running_train_loss / len(train_loader)\n",
    "\n",
    "    model.eval()\n",
    "    running_val_loss = 0.0\n",
    "    total_dice = 0.0\n",
    "    total_iou = 0.0\n",
    "    total_acc = 0.0\n",
    "\n",
    "    with torch.no_grad():\n",
    "        val_loop = tqdm(val_loader, desc=f\"Epoch [{epoch}/{num_epochs}] Validation\", leave=False)\n",
    "        for images, masks in val_loop:\n",
    "            images = images.to(device, dtype=torch.float32, non_blocking=True)\n",
    "            masks = masks.to(device, dtype=torch.float32, non_blocking=True)\n",
    "\n",
    "            outputs = model(images)\n",
    "            loss = criterion(outputs, masks)\n",
    "\n",
    "            running_val_loss += loss.item()\n",
    "            total_dice += dice_coefficient(outputs, masks).item()\n",
    "            total_iou += iou_score(outputs, masks).item()\n",
    "            total_acc += pixel_accuracy(outputs, masks).item()\n",
    "\n",
    "    avg_val_loss = running_val_loss / len(val_loader)\n",
    "    avg_dice = total_dice / len(val_loader)\n",
    "    avg_iou = total_iou / len(val_loader)\n",
    "    avg_acc = total_acc / len(val_loader)\n",
    "    epoch_time = time.time() - start_time\n",
    "\n",
    "    print(f\"\\nEpoch [{epoch}/{num_epochs}]\")\n",
    "    print(f\"Train Loss: {avg_train_loss:.4f}\")\n",
    "    print(f\"Val Loss  : {avg_val_loss:.4f}\")\n",
    "    print(f\"Dice Score: {avg_dice:.6f}\")\n",
    "    print(f\"IoU Score : {avg_iou:.6f}\")\n",
    "    print(f\"Accuracy  : {avg_acc:.6f}\")\n",
    "    print(f\"Time Taken: {epoch_time:.2f} sec\")\n",
    "\n",
    "    if avg_val_loss < best_val_loss:\n",
    "        best_val_loss = avg_val_loss\n",
    "        torch.save(model.state_dict(), save_path)\n",
    "        print(f\"New best model saved to '{save_path}'.\")\n",
    "    print(\"-\" * 60)"
   ]
  },
  {
   "cell_type": "code",
   "execution_count": null,
   "metadata": {
    "colab": {
     "base_uri": "https://localhost:8080/"
    },
    "executionInfo": {
     "elapsed": 372,
     "status": "ok",
     "timestamp": 1761106348072,
     "user": {
      "displayName": "Aly Elbana",
      "userId": "07065788760833618885"
     },
     "user_tz": -180
    },
    "id": "9YvC0wiUvVjP",
    "outputId": "0b67570e-4b75-4262-dfee-3d436e9dff6c"
   },
   "outputs": [
    {
     "name": "stdout",
     "output_type": "stream",
     "text": [
      "Model loaded successfully from /content/models/best_unet_model.pth\n"
     ]
    }
   ],
   "source": [
    "model = UNet(in_channels=1, out_channels=1).to(device)\n",
    "\n",
    "save_path = \"/content/models/best_unet_model.pth\"\n",
    "\n",
    "model.load_state_dict(torch.load(save_path))\n",
    "\n",
    "model.eval()\n",
    "\n",
    "print(f\"Model loaded successfully from {save_path}\")"
   ]
  },
  {
   "cell_type": "code",
   "execution_count": null,
   "metadata": {
    "colab": {
     "base_uri": "https://localhost:8080/",
     "height": 1000,
     "output_embedded_package_id": "1PkKSzyIokgNbQYSX7jpNMK6LC6iZ3yUK"
    },
    "executionInfo": {
     "elapsed": 9070,
     "status": "ok",
     "timestamp": 1761106880979,
     "user": {
      "displayName": "Aly Elbana",
      "userId": "07065788760833618885"
     },
     "user_tz": -180
    },
    "id": "xQuLVFsurgpW",
    "outputId": "7a4d71e6-62eb-415c-f40c-82ccb696c0b3"
   },
   "outputs": [
    {
     "data": {
      "text/plain": [
       "Output hidden; open in https://colab.research.google.com to view."
      ]
     },
     "metadata": {},
     "output_type": "display_data"
    }
   ],
   "source": [
    "import random\n",
    "\n",
    "def visualize_prediction(model, dataset, device, num_images):\n",
    "    model.eval()\n",
    "    with torch.no_grad():\n",
    "        random_indices = random.sample(range(len(dataset)), num_images)\n",
    "\n",
    "        for idx in random_indices:\n",
    "            inputs, targets = dataset[idx]  # get one sample\n",
    "            inputs = inputs.unsqueeze(0).to(device, dtype=torch.float32)  # add batch dim\n",
    "            targets = targets.unsqueeze(0).to(device, dtype=torch.float32)\n",
    "\n",
    "            outputs = model(inputs)\n",
    "            preds = (torch.sigmoid(outputs) > 0.5).float()\n",
    "\n",
    "            img = inputs[0, 0].cpu().numpy()\n",
    "            img = (img * 0.5) + 0.5\n",
    "            img_uint8 = (img * 255).astype(np.uint8)\n",
    "\n",
    "            mask = targets[0, 0].cpu().numpy().astype(np.uint8)\n",
    "            pred = preds[0, 0].cpu().numpy().astype(np.uint8)\n",
    "\n",
    "            img_rgb = cv.cvtColor(img_uint8, cv.COLOR_GRAY2RGB)\n",
    "            contours, _ = cv.findContours(pred, cv.RETR_TREE, cv.CHAIN_APPROX_SIMPLE)\n",
    "            overlay_img = cv.drawContours(img_rgb.copy(), contours, -1, (255, 0, 0), 2)\n",
    "\n",
    "            fig, ax = plt.subplots(1, 3, figsize=(18, 6))\n",
    "            ax[0].imshow(img_uint8, cmap='gray')\n",
    "            ax[0].set_title(\"Original Image\")\n",
    "            ax[0].axis('off')\n",
    "\n",
    "            ax[1].imshow(mask, cmap='gray')\n",
    "            ax[1].set_title(\"Ground Truth Mask\")\n",
    "            ax[1].axis('off')\n",
    "\n",
    "            ax[2].imshow(overlay_img)\n",
    "            ax[2].set_title(\"Predicted Mask Overlay\")\n",
    "            ax[2].axis('off')\n",
    "\n",
    "            plt.tight_layout()\n",
    "            plt.show()\n",
    "\n",
    "\n",
    "\n",
    "visualize_prediction(model, val_dataset, device, num_images=16)"
   ]
  },
  {
   "cell_type": "code",
   "execution_count": null,
   "metadata": {
    "colab": {
     "base_uri": "https://localhost:8080/",
     "height": 1000,
     "output_embedded_package_id": "1aHXioTVyrC3NE7EywvrogABRev4xVtnT"
    },
    "executionInfo": {
     "elapsed": 7600,
     "status": "ok",
     "timestamp": 1761106871879,
     "user": {
      "displayName": "Aly Elbana",
      "userId": "07065788760833618885"
     },
     "user_tz": -180
    },
    "id": "VgvWyk_k1O1B",
    "outputId": "923bb9e9-d9d0-463a-cbd3-5dfb557949c9"
   },
   "outputs": [
    {
     "data": {
      "text/plain": [
       "Output hidden; open in https://colab.research.google.com to view."
      ]
     },
     "metadata": {},
     "output_type": "display_data"
    }
   ],
   "source": [
    "def visualize_test_prediction(model, dataset, device, num_images=4):\n",
    "    model.eval()\n",
    "    with torch.no_grad():\n",
    "        random_indices = random.sample(range(len(dataset)), num_images)\n",
    "\n",
    "        for idx in random_indices:\n",
    "            inputs, img_path = dataset[idx]\n",
    "\n",
    "            inputs = inputs.unsqueeze(0).to(device, dtype=torch.float32)\n",
    "\n",
    "            outputs = model(inputs)\n",
    "            preds = (torch.sigmoid(outputs) > 0.5).float()\n",
    "\n",
    "            img = inputs[0, 0].cpu().numpy()\n",
    "            img = (img * 0.5) + 0.5\n",
    "            img_uint8 = (img * 255).astype(np.uint8)\n",
    "\n",
    "            pred = preds[0, 0].cpu().numpy().astype(np.uint8)\n",
    "\n",
    "            img_rgb = cv.cvtColor(img_uint8, cv.COLOR_GRAY2RGB)\n",
    "            contours, _ = cv.findContours(pred, cv.RETR_TREE, cv.CHAIN_APPROX_SIMPLE)\n",
    "            overlay_img = cv.drawContours(img_rgb.copy(), contours, -1, (255, 0, 0), 2)\n",
    "\n",
    "            fig, ax = plt.subplots(1, 2, figsize=(12, 6))\n",
    "            ax[0].imshow(img_uint8, cmap='gray')\n",
    "            ax[0].set_title(f\"Original: {os.path.basename(img_path)}\")\n",
    "            ax[0].axis('off')\n",
    "\n",
    "            ax[1].imshow(overlay_img)\n",
    "            ax[1].set_title(\"Predicted Mask Overlay\")\n",
    "            ax[1].axis('off')\n",
    "\n",
    "            plt.tight_layout()\n",
    "            plt.show()\n",
    "\n",
    "visualize_test_prediction(model, test_dataset, device, num_images=16)"
   ]
  },
  {
   "cell_type": "code",
   "execution_count": null,
   "metadata": {
    "id": "uw9nLc_hQtT2"
   },
   "outputs": [],
   "source": []
  }
 ],
 "metadata": {
  "accelerator": "GPU",
  "colab": {
   "gpuType": "T4",
   "provenance": []
  },
  "kernelspec": {
   "display_name": "Python 3",
   "name": "python3"
  },
  "language_info": {
   "codemirror_mode": {
    "name": "ipython",
    "version": 3
   },
   "file_extension": ".py",
   "mimetype": "text/x-python",
   "name": "python",
   "nbconvert_exporter": "python",
   "pygments_lexer": "ipython3",
   "version": "3.10.18"
  }
 },
 "nbformat": 4,
 "nbformat_minor": 0
}
